{
  "cells": [
    {
      "cell_type": "markdown",
      "metadata": {
        "id": "view-in-github",
        "colab_type": "text"
      },
      "source": [
        "<a href=\"https://colab.research.google.com/github/NinaNusb/Intro-Machine-learning/blob/main/Regression_overfitting.ipynb\" target=\"_parent\"><img src=\"https://colab.research.google.com/assets/colab-badge.svg\" alt=\"Open In Colab\"/></a>"
      ]
    },
    {
      "cell_type": "code",
      "execution_count": null,
      "metadata": {
        "id": "1pP8Ygzjflct"
      },
      "outputs": [],
      "source": [
        "import matplotlib.pyplot as plt\n",
        "import numpy as np\n",
        "from sklearn.model_selection import train_test_split\n",
        "from sklearn.linear_model import LinearRegression\n",
        "from sklearn.metrics import r2_score, mean_squared_error, mean_absolute_error"
      ]
    },
    {
      "cell_type": "code",
      "execution_count": null,
      "metadata": {
        "colab": {
          "base_uri": "https://localhost:8080/",
          "height": 283
        },
        "id": "ujQrM9ekflc0",
        "outputId": "9ce1f000-ae53-4d06-974f-91d35a3f6dc5"
      },
      "outputs": [
        {
          "data": {
            "text/plain": [
              "[<matplotlib.lines.Line2D at 0x7f9e24fa2850>]"
            ]
          },
          "execution_count": 2,
          "metadata": {},
          "output_type": "execute_result"
        },
        {
          "data": {
            "image/png": "[encoded data removed]",
            "text/plain": [
              "<Figure size 432x288 with 1 Axes>"
            ]
          },
          "metadata": {},
          "output_type": "display_data"
        }
      ],
      "source": [
        "x = np.linspace(-3, 3, 100)\n",
        "rng = np.random.default_rng(42)\n",
        "y = np.sin(4 * x) + x + rng.uniform(size=len(x))\n",
        "plt.plot(x, y, 'o')"
      ]
    },
    {
      "cell_type": "markdown",
      "metadata": {
        "id": "BotMBSPl-9g-"
      },
      "source": [
        "1. Why do we call the default_rng method? Why do we pass 42 as a parameter?"
      ]
    },
    {
      "cell_type": "markdown",
      "metadata": {
        "id": "b9Fej3Gqflc5"
      },
      "source": [
        "1) avoid using np.random.seed and np.random.* functions, such as np.random.random, to generate random values.\n",
        "Create a new RNG and pass it around using the np.random.default_rng function\n",
        "\n",
        "ensures good randomness (and independence) of the generated numbers\n",
        "\n",
        "the number is the seed to make sure we always get the same result "
      ]
    },
    {
      "cell_type": "markdown",
      "metadata": {
        "id": "RdYLmtRL_XCL"
      },
      "source": [
        "2. What are the parameters of the ‘fit‘ and ‘predict‘ methods? Why these two methods have\n",
        "different parameters?"
      ]
    },
    {
      "cell_type": "code",
      "execution_count": null,
      "metadata": {
        "colab": {
          "base_uri": "https://localhost:8080/"
        },
        "id": "Kl86FL8rflc-",
        "outputId": "0bf06331-3b45-44f4-edda-cbe923ec580d"
      },
      "outputs": [
        {
          "name": "stdout",
          "output_type": "stream",
          "text": [
            "Before:  (100,)\n",
            "After:  (100, 1)\n"
          ]
        }
      ],
      "source": [
        "print('Before: ', x.shape)\n",
        "X = x[:, np.newaxis]\n",
        "print('After: ', X.shape)"
      ]
    },
    {
      "cell_type": "code",
      "execution_count": null,
      "metadata": {
        "id": "NmJ3kYlafldB"
      },
      "outputs": [],
      "source": [
        "# split our data into a train and a test set using the train_test_split method provided by the sklearn API\n",
        "X_train, X_test, y_train, y_test = train_test_split(X, y, test_size=0.25,random_state=42)"
      ]
    },
    {
      "cell_type": "markdown",
      "metadata": {
        "id": "tK_eQx0_fldD"
      },
      "source": [
        "2) The parameters of the fit method are both the X_train and y_train, i.e. \"à remplire\", whereas the predict one only takes X_train as a parameter. Reason: \"compléter\""
      ]
    },
    {
      "cell_type": "markdown",
      "metadata": {
        "id": "09uD7N4j_ly7"
      },
      "source": [
        "3. Explain why (in our example) the linear model is “predicting the data as lying on a line”."
      ]
    },
    {
      "cell_type": "code",
      "execution_count": null,
      "metadata": {
        "id": "PHRglJsffldH"
      },
      "outputs": [],
      "source": [
        "# Instantiate the algorithm \n",
        "regressor = LinearRegression()\n",
        "\n",
        "# Fits the model on the training set\n",
        "regressor.fit(X_train, y_train)\n",
        "\n",
        "#predicts on the training set\n",
        "pred_train_lr= regressor.predict(X_train)\n",
        "pred_test_lr= regressor.predict(X_test)"
      ]
    },
    {
      "cell_type": "code",
      "execution_count": null,
      "metadata": {
        "colab": {
          "base_uri": "https://localhost:8080/"
        },
        "id": "hWyjl4UoE8MY",
        "outputId": "5b891461-9be2-448f-e481-dc6454952d9a"
      },
      "outputs": [
        {
          "data": {
            "text/plain": [
              "array([0.88993958])"
            ]
          },
          "execution_count": 6,
          "metadata": {},
          "output_type": "execute_result"
        }
      ],
      "source": [
        "regressor.coef_"
      ]
    },
    {
      "cell_type": "code",
      "execution_count": null,
      "metadata": {
        "colab": {
          "base_uri": "https://localhost:8080/"
        },
        "id": "cNcTC1Wb_zhZ",
        "outputId": "e111e5c9-4ac4-4571-c413-50fce7731757"
      },
      "outputs": [
        {
          "data": {
            "text/plain": [
              "0.4568754917067111"
            ]
          },
          "execution_count": 7,
          "metadata": {},
          "output_type": "execute_result"
        }
      ],
      "source": [
        "regressor.intercept_"
      ]
    },
    {
      "cell_type": "code",
      "execution_count": null,
      "metadata": {
        "colab": {
          "base_uri": "https://localhost:8080/"
        },
        "id": "Jb1Hd88WGCFe",
        "outputId": "07281629-fba9-4c54-ad8a-8dbae1b26ead"
      },
      "outputs": [
        {
          "data": {
            "text/plain": [
              "array([-1.40390727e+00, -5.55139644e-02,  2.96488704e+00, -1.72752166e+00,\n",
              "        1.67042947e+00, -1.61965020e+00,  3.22036161e-01,  2.37159399e+00,\n",
              "       -7.02742751e-01,  2.80307984e+00, -1.94326459e+00,  1.34681507e+00,\n",
              "        1.29287934e+00, -3.25192626e-01, -1.34997154e+00,  4.29907626e-01,\n",
              "       -3.79128358e-01, -1.83539313e+00,  2.91095131e+00, -7.56678483e-01,\n",
              "       -1.18816434e+00,  2.15585106e+00, -8.64549948e-01,  1.13107214e+00,\n",
              "       -1.51177873e+00, -9.18485680e-01, -2.05113606e+00, -1.29603581e+00,\n",
              "       -1.63385429e-01, -1.78145740e+00,  1.99404386e+00, -1.88932886e+00,\n",
              "        1.23894361e+00, -2.71256893e-01,  2.58733691e+00,  8.07457751e-01,\n",
              "        3.12669424e+00,  6.99586287e-01,  1.06293232e-01,  4.83843358e-01,\n",
              "        1.40075081e+00,  2.68100429e-01,  1.45468654e+00,  1.07713641e+00,\n",
              "        3.01882277e+00,  2.04797959e+00, -1.57823220e-03,  9.15329216e-01,\n",
              "        3.75971893e-01,  3.07275850e+00,  8.61393483e-01,  1.83223666e+00,\n",
              "       -4.86999822e-01,  2.85701558e+00,  9.69264948e-01,  1.18500788e+00,\n",
              "        2.31765825e+00, -2.17321161e-01, -6.48807019e-01, -2.15900752e+00,\n",
              "        5.91714822e-01, -1.08029288e+00, -2.10507179e+00, -9.72421412e-01,\n",
              "        2.47946545e+00,  2.69520838e+00,  1.77830093e+00,  2.42552972e+00,\n",
              "        2.20978679e+00, -1.13422861e+00,  1.02320068e+00,  1.61649373e+00,\n",
              "       -1.45784300e+00,  2.74914411e+00,  5.37779090e-01])"
            ]
          },
          "execution_count": 8,
          "metadata": {},
          "output_type": "execute_result"
        }
      ],
      "source": [
        "pred_train_lr"
      ]
    },
    {
      "cell_type": "code",
      "execution_count": null,
      "metadata": {
        "colab": {
          "base_uri": "https://localhost:8080/"
        },
        "id": "v6Y7o98fGPXh",
        "outputId": "83b12ff3-1253-4460-d91b-3cc60281dcb8"
      },
      "outputs": [
        {
          "data": {
            "text/plain": [
              "0.7526880682742091"
            ]
          },
          "execution_count": 9,
          "metadata": {},
          "output_type": "execute_result"
        }
      ],
      "source": [
        "(np.sqrt(mean_squared_error(y_train,pred_train_lr)))"
      ]
    },
    {
      "cell_type": "code",
      "execution_count": null,
      "metadata": {
        "colab": {
          "base_uri": "https://localhost:8080/"
        },
        "id": "3x7YUROzGjaJ",
        "outputId": "e246af36-657f-45a2-a138-8658f5c9c0b3"
      },
      "outputs": [
        {
          "data": {
            "text/plain": [
              "0.7689683888562229"
            ]
          },
          "execution_count": 10,
          "metadata": {},
          "output_type": "execute_result"
        }
      ],
      "source": [
        "(np.sqrt(mean_squared_error(y_test,pred_test_lr)))"
      ]
    },
    {
      "cell_type": "code",
      "execution_count": null,
      "metadata": {
        "colab": {
          "base_uri": "https://localhost:8080/",
          "height": 283
        },
        "id": "refPiuDHfldI",
        "outputId": "5ed58d61-5467-40af-d2c8-77b5c82bdd09"
      },
      "outputs": [
        {
          "data": {
            "text/plain": [
              "[<matplotlib.lines.Line2D at 0x7f9e24ab34d0>]"
            ]
          },
          "execution_count": 11,
          "metadata": {},
          "output_type": "execute_result"
        },
        {
          "data": {
            "image/png": "[encoded data removed]",
            "text/plain": [
              "<Figure size 432x288 with 1 Axes>"
            ]
          },
          "metadata": {},
          "output_type": "display_data"
        }
      ],
      "source": [
        "# paramaters can be accessed through the coef_ and intercept_ attributs, for instance to plot regressor\n",
        "min_pt = X.min() * regressor.coef_[0] + regressor.intercept_\n",
        "max_pt = X.max() * regressor.coef_[0] + regressor.intercept_\n",
        "plt.plot([X.min(), X.max()], [min_pt, max_pt])\n",
        "plt.plot(X_train, y_train, 'o')"
      ]
    },
    {
      "cell_type": "code",
      "execution_count": null,
      "metadata": {
        "colab": {
          "base_uri": "https://localhost:8080/"
        },
        "id": "7G-HYKSGHIrh",
        "outputId": "e0c0f775-0f56-4a71-804d-b383f387bcc3"
      },
      "outputs": [
        {
          "name": "stdout",
          "output_type": "stream",
          "text": [
            "-2.2129432534128815 3.1266942368263035\n"
          ]
        }
      ],
      "source": [
        "print(min_pt, max_pt)"
      ]
    },
    {
      "cell_type": "code",
      "execution_count": null,
      "metadata": {
        "colab": {
          "base_uri": "https://localhost:8080/"
        },
        "id": "SBx64ZQJHXZh",
        "outputId": "94dc21c1-a8b1-47fb-e9db-178b5425a1af"
      },
      "outputs": [
        {
          "data": {
            "text/plain": [
              "8.466331727065489"
            ]
          },
          "execution_count": 13,
          "metadata": {},
          "output_type": "execute_result"
        }
      ],
      "source": [
        "min_pt = 9 * regressor.coef_[0] + regressor.intercept_\n",
        "min_pt"
      ]
    },
    {
      "cell_type": "code",
      "execution_count": null,
      "metadata": {
        "colab": {
          "base_uri": "https://localhost:8080/"
        },
        "id": "oX2U7oC1fldL",
        "outputId": "4bfb52ae-f6f2-4f17-d06e-e96a303e1890"
      },
      "outputs": [
        {
          "name": "stdout",
          "output_type": "stream",
          "text": [
            "MAE (test): 0.67\n",
            "MSE (test): 0.59\n"
          ]
        }
      ],
      "source": [
        "# To evaluate the quality of the regressor it is possible to compute the MAE and the MSE:\n",
        "print(\"MAE (test): {:.2f}\".format(mean_absolute_error(y_test, regressor.predict(X_test))))\n",
        "print(\"MSE (test): {:.2f}\".format(mean_squared_error(y_test, regressor.predict(X_test))))"
      ]
    },
    {
      "cell_type": "code",
      "execution_count": null,
      "metadata": {
        "colab": {
          "base_uri": "https://localhost:8080/"
        },
        "id": "RvHq9vG5fldO",
        "outputId": "a4584ee5-a148-49ab-b3cb-e3af84ee8619"
      },
      "outputs": [
        {
          "name": "stdout",
          "output_type": "stream",
          "text": [
            "0.7526880682742091\n",
            "0.8147410224702099\n",
            "0.7689683888562229\n",
            "0.7875523429554101\n"
          ]
        }
      ],
      "source": [
        "\n",
        "#prints the evaluation metrics - RMSE and R-squared - on the training set\n",
        "print(np.sqrt(mean_squared_error(y_train,pred_train_lr)))\n",
        "print(r2_score(y_train, pred_train_lr))\n",
        "\n",
        "#predicts on the training set\n",
        "pred_test_lr= regressor.predict(X_test)\n",
        "\n",
        "#prints the evaluation metrics - RMSE and R-squared - on the training set\n",
        "print(np.sqrt(mean_squared_error(y_test,pred_test_lr))) \n",
        "print(r2_score(y_test, pred_test_lr))"
      ]
    },
    {
      "cell_type": "markdown",
      "metadata": {
        "id": "-0copSjMfldQ"
      },
      "source": [
        "4. What is the difference between MAE and MSE? In which situation would you use the MAE rather than the MSE"
      ]
    },
    {
      "cell_type": "markdown",
      "metadata": {
        "id": "AdXyWodwfldS"
      },
      "source": [
        "the most important tasks is to select an appropriate evaluation metric: these are also called loss functions. There are two kinds of machine learning problems – classification and regression. Here we talk about regression's loss functions. Since every project or data set is different, we must select appropriate evaluation metrics. Usually, more than 1 metrics is required to evaluate a machine learning model.  \n",
        "\n",
        "Evaluation Metrics or Loss functions for Regression\n",
        "- Mean absolute error (MAE)\n",
        "- Mean squared error (MSE)\n",
        "- Root mean square error (RMSE)\n",
        "- Root mean square log error (RMSLE)"
      ]
    },
    {
      "cell_type": "markdown",
      "metadata": {
        "id": "wPiu0z6afldT"
      },
      "source": [
        "https://akhilendra.com/evaluation-metrics-regression-mae-mse-rmse-rmsle/"
      ]
    },
    {
      "cell_type": "markdown",
      "metadata": {
        "id": "RaG0VdFtfldV"
      },
      "source": [
        "5. Compute the MAE and the MSE of the train set. Why is it larger (or smaller) than the value estimated on the test set?"
      ]
    },
    {
      "cell_type": "code",
      "execution_count": null,
      "metadata": {
        "colab": {
          "base_uri": "https://localhost:8080/"
        },
        "id": "FbB3lxn_KB10",
        "outputId": "a9404779-cae2-4f8e-e680-5657dad1ab87"
      },
      "outputs": [
        {
          "name": "stdout",
          "output_type": "stream",
          "text": [
            "MAE (test): 0.67\n",
            "MSE (test): 0.59\n"
          ]
        }
      ],
      "source": [
        "print(\"MAE (test): {:.2f}\".format(mean_absolute_error(y_test, regressor.predict(X_test))))\n",
        "print(\"MSE (test): {:.2f}\".format(mean_squared_error(y_test, regressor.predict(X_test))))"
      ]
    },
    {
      "cell_type": "code",
      "execution_count": null,
      "metadata": {
        "colab": {
          "base_uri": "https://localhost:8080/"
        },
        "id": "KYz48J3IfldW",
        "outputId": "c2aa54fe-74e7-496e-f1d1-0aa6358bb7ec"
      },
      "outputs": [
        {
          "name": "stdout",
          "output_type": "stream",
          "text": [
            "MAE (train): 0.64\n",
            "MSE (train): 0.57\n"
          ]
        }
      ],
      "source": [
        "print(\"MAE (train): {:.2f}\".format(mean_absolute_error(y_train, regressor.predict(X_train))))\n",
        "print(\"MSE (train): {:.2f}\".format(mean_squared_error(y_train, regressor.predict(X_train))))"
      ]
    },
    {
      "cell_type": "markdown",
      "metadata": {
        "id": "tFXc-bOUfldX"
      },
      "source": [
        "6. Add a (non-linear) feature containing sin(4x) to X and redo the fit as a new column to X_train (and X_test). Visualize the predictions with this new richer, yet linear, model."
      ]
    },
    {
      "cell_type": "code",
      "execution_count": null,
      "metadata": {
        "colab": {
          "base_uri": "https://localhost:8080/"
        },
        "id": "YxzWQcKoK5ED",
        "outputId": "95854f32-a7af-4292-8c4a-906878ec01f3"
      },
      "outputs": [
        {
          "data": {
            "text/plain": [
              "array([[ 0.53657292],\n",
              "       [ 0.7234557 ],\n",
              "       [ 0.86802917],\n",
              "       [ 0.96183833],\n",
              "       [ 0.99939702],\n",
              "       [ 0.97850871],\n",
              "       [ 0.90039501],\n",
              "       [ 0.76962418],\n",
              "       [ 0.59384399],\n",
              "       [ 0.38333447],\n",
              "       [ 0.15040668],\n",
              "       [-0.09131724],\n",
              "       [-0.32770071],\n",
              "       [-0.54491951],\n",
              "       [-0.73027018],\n",
              "       [-0.87291301],\n",
              "       [-0.96450592],\n",
              "       [-0.99969234],\n",
              "       [-0.9764145 ],\n",
              "       [-0.89603374],\n",
              "       [-0.76325091],\n",
              "       [-0.58583144],\n",
              "       [-0.37415123],\n",
              "       [-0.14058981],\n",
              "       [ 0.10119362],\n",
              "       [ 0.33705902],\n",
              "       [ 0.55321244],\n",
              "       [ 0.73701276],\n",
              "       [ 0.87771091],\n",
              "       [ 0.96707854],\n",
              "       [ 0.99988924],\n",
              "       [ 0.97422416],\n",
              "       [ 0.89158426],\n",
              "       [ 0.7568025 ],\n",
              "       [ 0.57776122],\n",
              "       [ 0.36493116],\n",
              "       [ 0.1307591 ],\n",
              "       [-0.11106004],\n",
              "       [-0.34638414],\n",
              "       [-0.56145091],\n",
              "       [-0.74368277],\n",
              "       [-0.88242239],\n",
              "       [-0.96955595],\n",
              "       [-0.99998769],\n",
              "       [-0.9719379 ],\n",
              "       [-0.88704699],\n",
              "       [-0.75027957],\n",
              "       [-0.56963411],\n",
              "       [-0.35567516],\n",
              "       [-0.12091552],\n",
              "       [ 0.12091552],\n",
              "       [ 0.35567516],\n",
              "       [ 0.56963411],\n",
              "       [ 0.75027957],\n",
              "       [ 0.88704699],\n",
              "       [ 0.9719379 ],\n",
              "       [ 0.99998769],\n",
              "       [ 0.96955595],\n",
              "       [ 0.88242239],\n",
              "       [ 0.74368277],\n",
              "       [ 0.56145091],\n",
              "       [ 0.34638414],\n",
              "       [ 0.11106004],\n",
              "       [-0.1307591 ],\n",
              "       [-0.36493116],\n",
              "       [-0.57776122],\n",
              "       [-0.7568025 ],\n",
              "       [-0.89158426],\n",
              "       [-0.97422416],\n",
              "       [-0.99988924],\n",
              "       [-0.96707854],\n",
              "       [-0.87771091],\n",
              "       [-0.73701276],\n",
              "       [-0.55321244],\n",
              "       [-0.33705902],\n",
              "       [-0.10119362],\n",
              "       [ 0.14058981],\n",
              "       [ 0.37415123],\n",
              "       [ 0.58583144],\n",
              "       [ 0.76325091],\n",
              "       [ 0.89603374],\n",
              "       [ 0.9764145 ],\n",
              "       [ 0.99969234],\n",
              "       [ 0.96450592],\n",
              "       [ 0.87291301],\n",
              "       [ 0.73027018],\n",
              "       [ 0.54491951],\n",
              "       [ 0.32770071],\n",
              "       [ 0.09131724],\n",
              "       [-0.15040668],\n",
              "       [-0.38333447],\n",
              "       [-0.59384399],\n",
              "       [-0.76962418],\n",
              "       [-0.90039501],\n",
              "       [-0.97850871],\n",
              "       [-0.99939702],\n",
              "       [-0.96183833],\n",
              "       [-0.86802917],\n",
              "       [-0.7234557 ],\n",
              "       [-0.53657292]])"
            ]
          },
          "execution_count": 19,
          "metadata": {},
          "output_type": "execute_result"
        }
      ],
      "source": [
        "# x = np.linspace(-3, 3, 100)\n",
        "x_sin = np.sin(4*X)\n",
        "x_sin"
      ]
    },
    {
      "cell_type": "code",
      "execution_count": null,
      "metadata": {
        "id": "jbY11pJ4Md3Y"
      },
      "outputs": [],
      "source": [
        "x = x.reshape(100,1)\n",
        "x_sin = x_sin.reshape(100,1)"
      ]
    },
    {
      "cell_type": "code",
      "execution_count": null,
      "metadata": {
        "colab": {
          "background_save": true
        },
        "id": "aLe1IADIfldY"
      },
      "outputs": [],
      "source": [
        "X = np.concatenate([x_sin, x], axis=1)"
      ]
    },
    {
      "cell_type": "code",
      "execution_count": null,
      "metadata": {
        "colab": {
          "base_uri": "https://localhost:8080/"
        },
        "id": "r3lQ62F0M5O5",
        "outputId": "b856d11e-82ab-456f-b3a2-6a250e739c4a"
      },
      "outputs": [
        {
          "data": {
            "text/plain": [
              "LinearRegression()"
            ]
          },
          "execution_count": 20,
          "metadata": {},
          "output_type": "execute_result"
        }
      ],
      "source": [
        "X_train, X_test, y_train, y_test = train_test_split(X, y, test_size=0.25,random_state=42)\n",
        "regressor.fit(X_train, y_train)"
      ]
    },
    {
      "cell_type": "code",
      "execution_count": null,
      "metadata": {
        "colab": {
          "base_uri": "https://localhost:8080/"
        },
        "id": "4-5p7PqZNqpU",
        "outputId": "b9b18e05-0fd4-4063-8d12-29723956708b"
      },
      "outputs": [
        {
          "data": {
            "text/plain": [
              "array([1.02041843, 0.97877163])"
            ]
          },
          "execution_count": 21,
          "metadata": {},
          "output_type": "execute_result"
        }
      ],
      "source": [
        "regressor.coef_"
      ]
    },
    {
      "cell_type": "code",
      "execution_count": null,
      "metadata": {
        "colab": {
          "base_uri": "https://localhost:8080/",
          "height": 300
        },
        "id": "euoaA55fNMFC",
        "outputId": "52c0067b-962f-434d-8a8a-2a382d9cfc60"
      },
      "outputs": [
        {
          "data": {
            "text/plain": [
              "[<matplotlib.lines.Line2D at 0x7f0fbaef8a10>,\n",
              " <matplotlib.lines.Line2D at 0x7f0fbaef8c50>]"
            ]
          },
          "execution_count": 22,
          "metadata": {},
          "output_type": "execute_result"
        },
        {
          "data": {
            "image/png": "[encoded data removed]",
            "text/plain": [
              "<Figure size 432x288 with 1 Axes>"
            ]
          },
          "metadata": {},
          "output_type": "display_data"
        }
      ],
      "source": [
        "min_pt = X.min() * regressor.coef_[1] + regressor.intercept_ + X.min() #* regressor.coef_[0]\n",
        "max_pt = X.max() * regressor.coef_[1] + regressor.intercept_ + X.max() #* regressor.coef_[0]\n",
        "plt.plot([X.min(), X.max()], [min_pt, max_pt])\n",
        "plt.plot(X_train, y_train, 'o')"
      ]
    },
    {
      "cell_type": "code",
      "source": [
        "x = np.linspace(-3, 3, 1000)\n",
        "y = regressor.coef_[0] * np.sin(4*x) + regressor.coef_[1] * x + regressor.intercept_\n",
        "plt.plot(x, y)\n",
        "plt.plot(X_train[:, 1], y_train, 'o')"
      ],
      "metadata": {
        "colab": {
          "base_uri": "https://localhost:8080/",
          "height": 283
        },
        "id": "p8jsolT8Fu2T",
        "outputId": "1caa5c3f-353c-4a8a-c3f5-cebe7a392920"
      },
      "execution_count": 26,
      "outputs": [
        {
          "output_type": "execute_result",
          "data": {
            "text/plain": [
              "[<matplotlib.lines.Line2D at 0x7f0fb941f050>]"
            ]
          },
          "metadata": {},
          "execution_count": 26
        },
        {
          "output_type": "display_data",
          "data": {
            "text/plain": [
              "<Figure size 432x288 with 1 Axes>"
            ],
            "image/png": "[encoded data removed]"
          },
          "metadata": {
            "needs_background": "light"
          }
        }
      ]
    },
    {
      "cell_type": "markdown",
      "metadata": {
        "id": "KvZW4-WyAAUD"
      },
      "source": [
        "7. Why would you add another features?"
      ]
    },
    {
      "cell_type": "markdown",
      "metadata": {
        "id": "R_vvwW04AFxq"
      },
      "source": [
        "8. Split the dataset into a training (80% of the examples) and a test set (20% of the examples)"
      ]
    },
    {
      "cell_type": "code",
      "execution_count": null,
      "metadata": {
        "id": "an2Jwc9YOjVK"
      },
      "outputs": [],
      "source": [
        "from sklearn.datasets import fetch_california_housing\n",
        "ds = fetch_california_housing()"
      ]
    },
    {
      "cell_type": "code",
      "source": [
        "ds"
      ],
      "metadata": {
        "colab": {
          "base_uri": "https://localhost:8080/"
        },
        "id": "o9XuQBazIAZh",
        "outputId": "ac2da4b2-0d59-4a43-9f69-078306bde240"
      },
      "execution_count": 32,
      "outputs": [
        {
          "output_type": "execute_result",
          "data": {
            "text/plain": [
              "{'data': array([[   8.3252    ,   41.        ,    6.98412698, ...,    2.55555556,\n",
              "           37.88      , -122.23      ],\n",
              "        [   8.3014    ,   21.        ,    6.23813708, ...,    2.10984183,\n",
              "           37.86      , -122.22      ],\n",
              "        [   7.2574    ,   52.        ,    8.28813559, ...,    2.80225989,\n",
              "           37.85      , -122.24      ],\n",
              "        ...,\n",
              "        [   1.7       ,   17.        ,    5.20554273, ...,    2.3256351 ,\n",
              "           39.43      , -121.22      ],\n",
              "        [   1.8672    ,   18.        ,    5.32951289, ...,    2.12320917,\n",
              "           39.43      , -121.32      ],\n",
              "        [   2.3886    ,   16.        ,    5.25471698, ...,    2.61698113,\n",
              "           39.37      , -121.24      ]]),\n",
              " 'target': array([4.526, 3.585, 3.521, ..., 0.923, 0.847, 0.894]),\n",
              " 'frame': None,\n",
              " 'target_names': ['MedHouseVal'],\n",
              " 'feature_names': ['MedInc',\n",
              "  'HouseAge',\n",
              "  'AveRooms',\n",
              "  'AveBedrms',\n",
              "  'Population',\n",
              "  'AveOccup',\n",
              "  'Latitude',\n",
              "  'Longitude'],\n",
              " 'DESCR': '.. _california_housing_dataset:\\n\\nCalifornia Housing dataset\\n--------------------------\\n\\n**Data Set Characteristics:**\\n\\n    :Number of Instances: 20640\\n\\n    :Number of Attributes: 8 numeric, predictive attributes and the target\\n\\n    :Attribute Information:\\n        - MedInc        median income in block group\\n        - HouseAge      median house age in block group\\n        - AveRooms      average number of rooms per household\\n        - AveBedrms     average number of bedrooms per household\\n        - Population    block group population\\n        - AveOccup      average number of household members\\n        - Latitude      block group latitude\\n        - Longitude     block group longitude\\n\\n    :Missing Attribute Values: None\\n\\nThis dataset was obtained from the StatLib repository.\\nhttps://www.dcc.fc.up.pt/~ltorgo/Regression/cal_housing.html\\n\\nThe target variable is the median house value for California districts,\\nexpressed in hundreds of thousands of dollars ($100,000).\\n\\nThis dataset was derived from the 1990 U.S. census, using one row per census\\nblock group. A block group is the smallest geographical unit for which the U.S.\\nCensus Bureau publishes sample data (a block group typically has a population\\nof 600 to 3,000 people).\\n\\nAn household is a group of people residing within a home. Since the average\\nnumber of rooms and bedrooms in this dataset are provided per household, these\\ncolumns may take surpinsingly large values for block groups with few households\\nand many empty houses, such as vacation resorts.\\n\\nIt can be downloaded/loaded using the\\n:func:`sklearn.datasets.fetch_california_housing` function.\\n\\n.. topic:: References\\n\\n    - Pace, R. Kelley and Ronald Barry, Sparse Spatial Autoregressions,\\n      Statistics and Probability Letters, 33 (1997) 291-297\\n'}"
            ]
          },
          "metadata": {},
          "execution_count": 32
        }
      ]
    },
    {
      "cell_type": "code",
      "source": [
        "len(ds.target)"
      ],
      "metadata": {
        "colab": {
          "base_uri": "https://localhost:8080/"
        },
        "id": "8nSP0fZnIcjT",
        "outputId": "dc3b154f-47bc-478d-ec4e-54f21d541bda"
      },
      "execution_count": 38,
      "outputs": [
        {
          "output_type": "execute_result",
          "data": {
            "text/plain": [
              "20640"
            ]
          },
          "metadata": {},
          "execution_count": 38
        }
      ]
    },
    {
      "cell_type": "code",
      "source": [
        "list(ds.feature_names)"
      ],
      "metadata": {
        "colab": {
          "base_uri": "https://localhost:8080/"
        },
        "id": "htLsyneNHB8-",
        "outputId": "c9f6638c-f32a-42da-92d7-2834ce720fc0"
      },
      "execution_count": 33,
      "outputs": [
        {
          "output_type": "execute_result",
          "data": {
            "text/plain": [
              "['MedInc',\n",
              " 'HouseAge',\n",
              " 'AveRooms',\n",
              " 'AveBedrms',\n",
              " 'Population',\n",
              " 'AveOccup',\n",
              " 'Latitude',\n",
              " 'Longitude']"
            ]
          },
          "metadata": {},
          "execution_count": 33
        }
      ]
    },
    {
      "cell_type": "code",
      "execution_count": 46,
      "metadata": {
        "id": "olZUsL3Y0-Yi"
      },
      "outputs": [],
      "source": [
        "# Features /observations (=matrix)\n",
        "X_cal = ds.data\n",
        "# Labels (=vector)\n",
        "y_cal = ds.target\n",
        "\n",
        "# Split le dataset en spécifiant le pourcentage de data à garder dans le test dataset, ici 20%\n",
        "X_train_cal, X_test_cal, y_train_cal, y_test_cal = train_test_split(X_cal, y_cal, test_size=0.2)"
      ]
    },
    {
      "cell_type": "markdown",
      "metadata": {
        "id": "or39nyLgAJiH"
      },
      "source": [
        "9. Compute the MSE on the test and train set achieved by a linear regression model"
      ]
    },
    {
      "cell_type": "code",
      "source": [
        "X_test_cal"
      ],
      "metadata": {
        "colab": {
          "base_uri": "https://localhost:8080/"
        },
        "id": "cmVBEfXbJdHS",
        "outputId": "c2cc6b9a-3511-4c62-e6ef-a786fecf015d"
      },
      "execution_count": 47,
      "outputs": [
        {
          "output_type": "execute_result",
          "data": {
            "text/plain": [
              "array([[   2.2368    ,   38.        ,    4.44444444, ...,    3.61587302,\n",
              "          34.03      , -118.36      ],\n",
              "       [   8.6718    ,   32.        ,    7.07394366, ...,    2.46478873,\n",
              "          33.99      , -118.37      ],\n",
              "       [   1.245     ,   42.        ,    3.62425447, ...,    1.51292247,\n",
              "          38.58      , -121.48      ],\n",
              "       ...,\n",
              "       [   3.8616    ,    8.        ,    6.19      , ...,    2.967     ,\n",
              "          38.55      , -122.82      ],\n",
              "       [   2.1975    ,   41.        ,    5.37380192, ...,    2.94089457,\n",
              "          38.54      , -121.48      ],\n",
              "       [   3.0043    ,   24.        ,   16.79329609, ...,    2.17877095,\n",
              "          39.32      , -120.26      ]])"
            ]
          },
          "metadata": {},
          "execution_count": 47
        }
      ]
    },
    {
      "cell_type": "code",
      "source": [
        "# Fits the model on the training set\n",
        "regressor.fit(X_train_cal, y_train_cal)\n",
        "\n",
        "#predicts on the training set\n",
        "pred_train_lr= regressor.predict(X_train_cal)\n",
        "pred_test_lr= regressor.predict(X_test_cal)"
      ],
      "metadata": {
        "id": "1kXDL9xYLMv6"
      },
      "execution_count": 48,
      "outputs": []
    },
    {
      "cell_type": "code",
      "source": [
        "print(\"MSE (test): {:.2f}\".format(mean_squared_error(y_test_cal, regressor.predict(X_test_cal))))\n",
        "print(\"MSE (train): {:.2f}\".format(mean_squared_error(y_train_cal, regressor.predict(X_train_cal))))"
      ],
      "metadata": {
        "colab": {
          "base_uri": "https://localhost:8080/"
        },
        "id": "wq5uPTMTI2gZ",
        "outputId": "4a8dc13a-0766-4d87-b758-2cc0b86558de"
      },
      "execution_count": 49,
      "outputs": [
        {
          "output_type": "stream",
          "name": "stdout",
          "text": [
            "MSE (test): 0.51\n",
            "MSE (train): 0.53\n"
          ]
        }
      ]
    },
    {
      "cell_type": "markdown",
      "metadata": {
        "id": "T2zwAQWSANA9"
      },
      "source": [
        "10. Explain why it can be interesting to a consider a polynomial regression rather than a simple\n",
        "linear regression model."
      ]
    },
    {
      "cell_type": "markdown",
      "metadata": {
        "id": "Z3paFuP1APiO"
      },
      "source": [
        "11. Polynomial regression can take into account interactions between features. Considering the\n",
        "case of a boolean observation vector (i.e. ∀i, xi ∈ {0, 1}), explain why"
      ]
    },
    {
      "cell_type": "markdown",
      "metadata": {
        "id": "DTtpjUWrASji"
      },
      "source": [
        "12. What would be the form of the function considered for a polynomial regression of degree 3?"
      ]
    },
    {
      "cell_type": "markdown",
      "metadata": {
        "id": "5LjshypOAUii"
      },
      "source": [
        "13. What would be the feature expansion for a polynomial regression of degree 3?"
      ]
    },
    {
      "cell_type": "markdown",
      "metadata": {
        "id": "hNtwZjLkAXBq"
      },
      "source": [
        "14. Why is it interesting to reduce polynomial regression to linear regression by considering a\n",
        "feature expansion rather than considering a whole new task?"
      ]
    },
    {
      "cell_type": "markdown",
      "metadata": {
        "id": "pg96IofrAZXw"
      },
      "source": [
        "15. Considering the California housing dataset, fit a polynomial regression model with a degree\n",
        "between 1 and 10"
      ]
    },
    {
      "cell_type": "markdown",
      "metadata": {
        "id": "L_VqHjBQAb3I"
      },
      "source": [
        "16. For each model compute the MSE for the training set and the test set. Plot the variation of\n",
        "these two values with respect to the number of features considered"
      ]
    },
    {
      "cell_type": "markdown",
      "metadata": {
        "id": "s6hQ3S_kAcvg"
      },
      "source": [
        "17. Interpret\n"
      ]
    }
  ],
  "metadata": {
    "colab": {
      "provenance": [],
      "collapsed_sections": [],
      "toc_visible": true,
      "include_colab_link": true
    },
    "kernelspec": {
      "display_name": "Python 3.10.6 64-bit",
      "language": "python",
      "name": "python3"
    },
    "language_info": {
      "codemirror_mode": {
        "name": "ipython",
        "version": 3
      },
      "file_extension": ".py",
      "mimetype": "text/x-python",
      "name": "python",
      "nbconvert_exporter": "python",
      "pygments_lexer": "ipython3",
      "version": "3.10.6"
    },
    "vscode": {
      "interpreter": {
        "hash": "916dbcbb3f70747c44a77c7bcd40155683ae19c65e1c03b4aa3499c5328201f1"
      }
    }
  },
  "nbformat": 4,
  "nbformat_minor": 0
}